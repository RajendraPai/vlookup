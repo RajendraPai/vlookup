{
  "nbformat": 4,
  "nbformat_minor": 0,
  "metadata": {
    "colab": {
      "name": "vlookup0.ipynb",
      "provenance": [],
      "authorship_tag": "ABX9TyMf+qZeG0I+PTM4Sn6sMpsS",
      "include_colab_link": true
    },
    "kernelspec": {
      "name": "python3",
      "display_name": "Python 3"
    },
    "language_info": {
      "name": "python"
    }
  },
  "cells": [
    {
      "cell_type": "markdown",
      "metadata": {
        "id": "view-in-github",
        "colab_type": "text"
      },
      "source": [
        "<a href=\"https://colab.research.google.com/github/RajendraPai/vlookup/blob/main/vlookup0.ipynb\" target=\"_parent\"><img src=\"https://colab.research.google.com/assets/colab-badge.svg\" alt=\"Open In Colab\"/></a>"
      ]
    },
    {
      "cell_type": "code",
      "execution_count": 9,
      "metadata": {
        "id": "-oB2SIr6MrSq",
        "colab": {
          "base_uri": "https://localhost:8080/"
        },
        "collapsed": true,
        "outputId": "ee1d1961-b620-43f9-bb2a-168907009a20"
      },
      "outputs": [
        {
          "output_type": "stream",
          "name": "stdout",
          "text": [
            "    Unnamed: 0          Salesman   Sale Date   Zone  Sale Amount  \\\n",
            "0            0  Narayan Kulkarni  2008-02-26  North       105419   \n",
            "1            1  Narayan Kulkarni  2008-04-08   East        37400   \n",
            "2            2  Narayan Kulkarni  2008-04-08  South        23258   \n",
            "3            3  Narayan Kulkarni  2008-04-21  North        55007   \n",
            "4            4  Narayan Kulkarni  2008-04-24   West        39727   \n",
            "..         ...               ...         ...    ...          ...   \n",
            "89          89   Renuka Hiremath  2008-08-10   East       122607   \n",
            "90          90   Renuka Hiremath  2009-02-09  South        67834   \n",
            "91          91   Renuka Hiremath  2009-02-15  North         5442   \n",
            "92          92   Renuka Hiremath  2009-05-04   West        89234   \n",
            "93          93   Renuka Hiremath  2009-06-05   West         3783   \n",
            "\n",
            "      Supervisor  Salesman Mobile  \n",
            "0    S Mahadevan       9964933087  \n",
            "1    S Mahadevan       9964933087  \n",
            "2    S Mahadevan       9964933087  \n",
            "3    S Mahadevan       9964933087  \n",
            "4    S Mahadevan       9964933087  \n",
            "..           ...              ...  \n",
            "89  Rahul Saxena       9944021554  \n",
            "90  Rahul Saxena       9944021554  \n",
            "91  Rahul Saxena       9944021554  \n",
            "92  Rahul Saxena       9944021554  \n",
            "93  Rahul Saxena       9944021554  \n",
            "\n",
            "[94 rows x 7 columns]\n"
          ]
        }
      ],
      "source": [
        "import pandas as pd\n",
        "import numpy as np\n",
        "pd.set_option('display.max_columns', None)\n",
        "# read file stored in github\n",
        "url = \"https://raw.githubusercontent.com/RajendraPai/vlookup/main/vlookup.csv?token=GHSAT0AAAAAABRCQ6TMGGSN3VEH7ON3RKNSYPWTE6Q\" # file in GitHub - Raw (note url)\n",
        "df1 = pd.read_csv(url)\n",
        "print(df1)\n",
        "# import file stored in local machine\n",
        "# from google.colab import files\n",
        "# uploaded = files.upload()\n"
      ]
    },
    {
      "cell_type": "code",
      "source": [
        "import io\n",
        "df = pd.read_csv(io.BytesIO(uploaded['vlookup.csv']))\n",
        "pd.set_option('display.max_columns', None)\n",
        "print(df)"
      ],
      "metadata": {
        "colab": {
          "base_uri": "https://localhost:8080/"
        },
        "collapsed": true,
        "id": "vjdBcD1ZOE2r",
        "outputId": "0c3be791-acc8-4ec4-9813-e226ee441181"
      },
      "execution_count": 7,
      "outputs": [
        {
          "output_type": "stream",
          "name": "stdout",
          "text": [
            "    Unnamed: 0          Salesman   Sale Date   Zone  Sale Amount  \\\n",
            "0            0  Narayan Kulkarni  2008-02-26  North       105419   \n",
            "1            1  Narayan Kulkarni  2008-04-08   East        37400   \n",
            "2            2  Narayan Kulkarni  2008-04-08  South        23258   \n",
            "3            3  Narayan Kulkarni  2008-04-21  North        55007   \n",
            "4            4  Narayan Kulkarni  2008-04-24   West        39727   \n",
            "..         ...               ...         ...    ...          ...   \n",
            "89          89   Renuka Hiremath  2008-08-10   East       122607   \n",
            "90          90   Renuka Hiremath  2009-02-09  South        67834   \n",
            "91          91   Renuka Hiremath  2009-02-15  North         5442   \n",
            "92          92   Renuka Hiremath  2009-05-04   West        89234   \n",
            "93          93   Renuka Hiremath  2009-06-05   West         3783   \n",
            "\n",
            "      Supervisor  Salesman Mobile  \n",
            "0    S Mahadevan       9964933087  \n",
            "1    S Mahadevan       9964933087  \n",
            "2    S Mahadevan       9964933087  \n",
            "3    S Mahadevan       9964933087  \n",
            "4    S Mahadevan       9964933087  \n",
            "..           ...              ...  \n",
            "89  Rahul Saxena       9944021554  \n",
            "90  Rahul Saxena       9944021554  \n",
            "91  Rahul Saxena       9944021554  \n",
            "92  Rahul Saxena       9944021554  \n",
            "93  Rahul Saxena       9944021554  \n",
            "\n",
            "[94 rows x 7 columns]\n"
          ]
        }
      ]
    },
    {
      "cell_type": "code",
      "source": [
        "df2 = df1.unstack()\n",
        "print(df2)"
      ],
      "metadata": {
        "colab": {
          "base_uri": "https://localhost:8080/"
        },
        "id": "l6c2_8ZRTECu",
        "outputId": "229bd1d4-73e8-4e49-9b9b-ef39c14ee265"
      },
      "execution_count": 11,
      "outputs": [
        {
          "output_type": "stream",
          "name": "stdout",
          "text": [
            "Unnamed: 0       0              0\n",
            "                 1              1\n",
            "                 2              2\n",
            "                 3              3\n",
            "                 4              4\n",
            "                          ...    \n",
            "Salesman Mobile  89    9944021554\n",
            "                 90    9944021554\n",
            "                 91    9944021554\n",
            "                 92    9944021554\n",
            "                 93    9944021554\n",
            "Length: 658, dtype: object\n"
          ]
        }
      ]
    },
    {
      "cell_type": "code",
      "source": [
        "print(df1)"
      ],
      "metadata": {
        "colab": {
          "base_uri": "https://localhost:8080/"
        },
        "id": "XrjZUKRLTfJt",
        "outputId": "e98ec629-0dfb-4d83-a877-7802084ae9d5"
      },
      "execution_count": 12,
      "outputs": [
        {
          "output_type": "stream",
          "name": "stdout",
          "text": [
            "    Unnamed: 0          Salesman   Sale Date   Zone  Sale Amount  \\\n",
            "0            0  Narayan Kulkarni  2008-02-26  North       105419   \n",
            "1            1  Narayan Kulkarni  2008-04-08   East        37400   \n",
            "2            2  Narayan Kulkarni  2008-04-08  South        23258   \n",
            "3            3  Narayan Kulkarni  2008-04-21  North        55007   \n",
            "4            4  Narayan Kulkarni  2008-04-24   West        39727   \n",
            "..         ...               ...         ...    ...          ...   \n",
            "89          89   Renuka Hiremath  2008-08-10   East       122607   \n",
            "90          90   Renuka Hiremath  2009-02-09  South        67834   \n",
            "91          91   Renuka Hiremath  2009-02-15  North         5442   \n",
            "92          92   Renuka Hiremath  2009-05-04   West        89234   \n",
            "93          93   Renuka Hiremath  2009-06-05   West         3783   \n",
            "\n",
            "      Supervisor  Salesman Mobile  \n",
            "0    S Mahadevan       9964933087  \n",
            "1    S Mahadevan       9964933087  \n",
            "2    S Mahadevan       9964933087  \n",
            "3    S Mahadevan       9964933087  \n",
            "4    S Mahadevan       9964933087  \n",
            "..           ...              ...  \n",
            "89  Rahul Saxena       9944021554  \n",
            "90  Rahul Saxena       9944021554  \n",
            "91  Rahul Saxena       9944021554  \n",
            "92  Rahul Saxena       9944021554  \n",
            "93  Rahul Saxena       9944021554  \n",
            "\n",
            "[94 rows x 7 columns]\n"
          ]
        }
      ]
    },
    {
      "cell_type": "markdown",
      "source": [
        "# New section"
      ],
      "metadata": {
        "id": "u9ZOZ1BDOwCW"
      }
    }
  ]
}